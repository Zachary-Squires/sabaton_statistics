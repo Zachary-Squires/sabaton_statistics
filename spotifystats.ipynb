{
 "cells": [
  {
   "cell_type": "code",
   "execution_count": 67,
   "id": "430d9f5d-49e0-4faf-9ff7-9e79bd52e707",
   "metadata": {},
   "outputs": [
    {
     "name": "stdout",
     "output_type": "stream",
     "text": [
      "Access Token: BQC9yIky6Nsb5dRGctjg7ZpChOr_YlpHHMRIzAJFe0dyvL-LJYV4zRoJ6cSLc7c6PzuVcPbzc3otpfvugCemIaMEAZmA20l2drew5Ge_JtSlL8EtUtE\n"
     ]
    }
   ],
   "source": [
    "#Changing my working directory so my installed Python packages are registered correctly\n",
    "import os\n",
    "os.chdir(r\"C:\\Users\\AtomB\\AppData\\Local\\Programs\\Python\\Python312\\Lib\\site-packages\")\n",
    "import requests \n",
    "#Using the client_id and client_secret from my app I registered with spotify to generate an access token for the API\n",
    "client_id = ''\n",
    "client_secret = ''\n",
    "url = \"https://accounts.spotify.com/api/token\"\n",
    "headers = {\n",
    "    \"Content-Type\": \"application/x-www-form-urlencoded\"\n",
    "}\n",
    "\n",
    "data = {\n",
    "    \"grant_type\": \"client_credentials\",\n",
    "    \"client_id\": client_id,\n",
    "    \"client_secret\": client_secret\n",
    "}\n",
    "\n",
    "response = requests.post(url, headers=headers, data=data)\n",
    "if response.status_code == 200:\n",
    "    token = response.json().get(\"access_token\")\n",
    "    print(\"Access Token:\", token)\n",
    "else:\n",
    "    print(\"Failed to retrieve access token:\", response.text)"
   ]
  },
  {
   "cell_type": "code",
   "execution_count": 68,
   "id": "94f229a5-32e7-4a9a-99fc-300afd8a986c",
   "metadata": {},
   "outputs": [
    {
     "name": "stdout",
     "output_type": "stream",
     "text": [
      "{'external_urls': {'spotify': 'https://open.spotify.com/artist/3o2dn2O0FCVsWDFSh8qxgG'}, 'followers': {'href': None, 'total': 2219637}, 'genres': ['power metal', 'swedish metal', 'swedish power metal'], 'href': 'https://api.spotify.com/v1/artists/3o2dn2O0FCVsWDFSh8qxgG', 'id': '3o2dn2O0FCVsWDFSh8qxgG', 'images': [{'url': 'https://i.scdn.co/image/ab6761610000e5eb0f468cde238dfde3ba3c921e', 'height': 640, 'width': 640}, {'url': 'https://i.scdn.co/image/ab676161000051740f468cde238dfde3ba3c921e', 'height': 320, 'width': 320}, {'url': 'https://i.scdn.co/image/ab6761610000f1780f468cde238dfde3ba3c921e', 'height': 160, 'width': 160}], 'name': 'Sabaton', 'popularity': 73, 'type': 'artist', 'uri': 'spotify:artist:3o2dn2O0FCVsWDFSh8qxgG'}\n"
     ]
    }
   ],
   "source": [
    "#Exploratory analysis, attempting to get Sabaton's artist data using their id\n",
    "id = '3o2dn2O0FCVsWDFSh8qxgG'\n",
    "url = \"https://api.spotify.com/v1/artists/\" + id\n",
    "headers = {\n",
    "    \"Authorization\": \"Bearer  \" + token\n",
    "}\n",
    "response = requests.get(url, headers=headers)\n",
    "if response.status_code == 200:\n",
    "    rjson = response.json()\n",
    "    print(rjson)\n",
    "else:\n",
    "    print(\"Failed to get artist:\", response.text)"
   ]
  },
  {
   "cell_type": "code",
   "execution_count": 69,
   "id": "e4113a35-1316-48c0-9cad-d1c36f261695",
   "metadata": {
    "scrolled": true
   },
   "outputs": [
    {
     "name": "stdout",
     "output_type": "stream",
     "text": [
      "20\n",
      "{'album_type': 'album', 'total_tracks': 7, 'available_markets': ['AR', 'AU', 'AT', 'BE', 'BO', 'BR', 'BG', 'CA', 'CL', 'CO', 'CR', 'CY', 'CZ', 'DK', 'DO', 'DE', 'EC', 'EE', 'SV', 'FI', 'FR', 'GR', 'GT', 'HN', 'HK', 'HU', 'IS', 'IE', 'IT', 'LV', 'LT', 'LU', 'MY', 'MT', 'MX', 'NL', 'NZ', 'NI', 'NO', 'PA', 'PY', 'PE', 'PH', 'PL', 'PT', 'SG', 'SK', 'ES', 'SE', 'CH', 'TW', 'TR', 'UY', 'US', 'GB', 'AD', 'LI', 'MC', 'ID', 'JP', 'TH', 'VN', 'RO', 'IL', 'ZA', 'SA', 'AE', 'BH', 'QA', 'OM', 'KW', 'EG', 'MA', 'DZ', 'TN', 'LB', 'JO', 'PS', 'IN', 'BY', 'KZ', 'MD', 'UA', 'AL', 'BA', 'HR', 'ME', 'MK', 'RS', 'SI', 'KR', 'BD', 'PK', 'LK', 'GH', 'KE', 'NG', 'TZ', 'UG', 'AG', 'AM', 'BS', 'BB', 'BZ', 'BT', 'BW', 'BF', 'CV', 'CW', 'DM', 'FJ', 'GM', 'GE', 'GD', 'GW', 'GY', 'HT', 'JM', 'KI', 'LS', 'LR', 'MW', 'MV', 'ML', 'MH', 'FM', 'NA', 'NR', 'NE', 'PW', 'PG', 'PR', 'WS', 'SM', 'ST', 'SN', 'SC', 'SL', 'SB', 'KN', 'LC', 'VC', 'SR', 'TL', 'TO', 'TT', 'TV', 'VU', 'AZ', 'BN', 'BI', 'KH', 'CM', 'TD', 'KM', 'GQ', 'SZ', 'GA', 'GN', 'KG', 'LA', 'MO', 'MR', 'MN', 'NP', 'RW', 'TG', 'UZ', 'ZW', 'BJ', 'MG', 'MU', 'MZ', 'AO', 'CI', 'DJ', 'ZM', 'CD', 'CG', 'IQ', 'LY', 'TJ', 'VE', 'ET', 'XK'], 'external_urls': {'spotify': 'https://open.spotify.com/album/7x74AsZWhJloc6tKOF7Nty'}, 'href': 'https://api.spotify.com/v1/albums/7x74AsZWhJloc6tKOF7Nty', 'id': '7x74AsZWhJloc6tKOF7Nty', 'images': [{'url': 'https://i.scdn.co/image/ab67616d0000b273f7c4fa2945dd8132eada410b', 'height': 640, 'width': 640}, {'url': 'https://i.scdn.co/image/ab67616d00001e02f7c4fa2945dd8132eada410b', 'height': 300, 'width': 300}, {'url': 'https://i.scdn.co/image/ab67616d00004851f7c4fa2945dd8132eada410b', 'height': 64, 'width': 64}], 'name': 'Stories From The Western Front', 'release_date': '2023-04-14', 'release_date_precision': 'day', 'type': 'album', 'uri': 'spotify:album:7x74AsZWhJloc6tKOF7Nty', 'artists': [{'external_urls': {'spotify': 'https://open.spotify.com/artist/3o2dn2O0FCVsWDFSh8qxgG'}, 'href': 'https://api.spotify.com/v1/artists/3o2dn2O0FCVsWDFSh8qxgG', 'id': '3o2dn2O0FCVsWDFSh8qxgG', 'name': 'Sabaton', 'type': 'artist', 'uri': 'spotify:artist:3o2dn2O0FCVsWDFSh8qxgG'}], 'album_group': 'album'}\n"
     ]
    }
   ],
   "source": [
    "#Using Sabaton's artist ID to get a list of all their albums, only returning a count and the first album in the list here\n",
    "url = \"https://api.spotify.com/v1/artists/\" + id + \"/albums\"\n",
    "headers = {\n",
    "    \"Authorization\": \"Bearer  \" + token\n",
    "}\n",
    "albums = requests.get(url, headers=headers)\n",
    "if response.status_code == 200:\n",
    "    print(len(albums.json().get(\"items\")))\n",
    "    print(albums.json().get(\"items\")[0])\n",
    "else:\n",
    "    print(\"Failed to get artist:\", response.text)"
   ]
  },
  {
   "cell_type": "code",
   "execution_count": 70,
   "id": "da68a8a2-c89e-458e-993d-1f25eea39483",
   "metadata": {
    "scrolled": true
   },
   "outputs": [
    {
     "name": "stdout",
     "output_type": "stream",
     "text": [
      "{'album': {'album_type': 'album', 'artists': [{'external_urls': {'spotify': 'https://open.spotify.com/artist/3o2dn2O0FCVsWDFSh8qxgG'}, 'href': 'https://api.spotify.com/v1/artists/3o2dn2O0FCVsWDFSh8qxgG', 'id': '3o2dn2O0FCVsWDFSh8qxgG', 'name': 'Sabaton', 'type': 'artist', 'uri': 'spotify:artist:3o2dn2O0FCVsWDFSh8qxgG'}], 'available_markets': ['AR', 'AU', 'AT', 'BE', 'BO', 'BR', 'BG', 'CA', 'CL', 'CO', 'CR', 'CY', 'CZ', 'DK', 'DO', 'DE', 'EC', 'EE', 'SV', 'FI', 'FR', 'GR', 'GT', 'HN', 'HK', 'HU', 'IS', 'IE', 'IT', 'LV', 'LT', 'LU', 'MY', 'MT', 'MX', 'NL', 'NZ', 'NI', 'NO', 'PA', 'PY', 'PE', 'PH', 'PL', 'PT', 'SG', 'SK', 'ES', 'SE', 'CH', 'TW', 'TR', 'UY', 'US', 'GB', 'AD', 'LI', 'MC', 'ID', 'JP', 'TH', 'VN', 'RO', 'IL', 'ZA', 'SA', 'AE', 'BH', 'QA', 'OM', 'KW', 'EG', 'MA', 'DZ', 'TN', 'LB', 'JO', 'PS', 'IN', 'BY', 'KZ', 'MD', 'UA', 'AL', 'BA', 'HR', 'ME', 'MK', 'RS', 'SI', 'KR', 'BD', 'PK', 'LK', 'GH', 'KE', 'NG', 'TZ', 'UG', 'AG', 'AM', 'BS', 'BB', 'BZ', 'BT', 'BW', 'BF', 'CV', 'CW', 'DM', 'FJ', 'GM', 'GE', 'GD', 'GW', 'GY', 'HT', 'JM', 'KI', 'LS', 'LR', 'MW', 'MV', 'ML', 'MH', 'FM', 'NA', 'NR', 'NE', 'PW', 'PG', 'PR', 'WS', 'SM', 'ST', 'SN', 'SC', 'SL', 'SB', 'KN', 'LC', 'VC', 'SR', 'TL', 'TO', 'TT', 'TV', 'VU', 'AZ', 'BN', 'BI', 'KH', 'CM', 'TD', 'KM', 'GQ', 'SZ', 'GA', 'GN', 'KG', 'LA', 'MO', 'MR', 'MN', 'NP', 'RW', 'TG', 'UZ', 'ZW', 'BJ', 'MG', 'MU', 'MZ', 'AO', 'CI', 'DJ', 'ZM', 'CD', 'CG', 'IQ', 'LY', 'TJ', 'VE', 'ET', 'XK'], 'external_urls': {'spotify': 'https://open.spotify.com/album/7x74AsZWhJloc6tKOF7Nty'}, 'href': 'https://api.spotify.com/v1/albums/7x74AsZWhJloc6tKOF7Nty', 'id': '7x74AsZWhJloc6tKOF7Nty', 'images': [{'url': 'https://i.scdn.co/image/ab67616d0000b273f7c4fa2945dd8132eada410b', 'width': 640, 'height': 640}, {'url': 'https://i.scdn.co/image/ab67616d00001e02f7c4fa2945dd8132eada410b', 'width': 300, 'height': 300}, {'url': 'https://i.scdn.co/image/ab67616d00004851f7c4fa2945dd8132eada410b', 'width': 64, 'height': 64}], 'name': 'Stories From The Western Front', 'release_date': '2023-04-14', 'release_date_precision': 'day', 'total_tracks': 7, 'type': 'album', 'uri': 'spotify:album:7x74AsZWhJloc6tKOF7Nty'}, 'artists': [{'external_urls': {'spotify': 'https://open.spotify.com/artist/3o2dn2O0FCVsWDFSh8qxgG'}, 'href': 'https://api.spotify.com/v1/artists/3o2dn2O0FCVsWDFSh8qxgG', 'id': '3o2dn2O0FCVsWDFSh8qxgG', 'name': 'Sabaton', 'type': 'artist', 'uri': 'spotify:artist:3o2dn2O0FCVsWDFSh8qxgG'}], 'available_markets': ['AR', 'AU', 'AT', 'BE', 'BO', 'BR', 'BG', 'CA', 'CL', 'CO', 'CR', 'CY', 'CZ', 'DK', 'DO', 'DE', 'EC', 'EE', 'SV', 'FI', 'FR', 'GR', 'GT', 'HN', 'HK', 'HU', 'IS', 'IE', 'IT', 'LV', 'LT', 'LU', 'MY', 'MT', 'MX', 'NL', 'NZ', 'NI', 'NO', 'PA', 'PY', 'PE', 'PH', 'PL', 'PT', 'SG', 'SK', 'ES', 'SE', 'CH', 'TW', 'TR', 'UY', 'US', 'GB', 'AD', 'LI', 'MC', 'ID', 'JP', 'TH', 'VN', 'RO', 'IL', 'ZA', 'SA', 'AE', 'BH', 'QA', 'OM', 'KW', 'EG', 'MA', 'DZ', 'TN', 'LB', 'JO', 'PS', 'IN', 'BY', 'KZ', 'MD', 'UA', 'AL', 'BA', 'HR', 'ME', 'MK', 'RS', 'SI', 'KR', 'BD', 'PK', 'LK', 'GH', 'KE', 'NG', 'TZ', 'UG', 'AG', 'AM', 'BS', 'BB', 'BZ', 'BT', 'BW', 'BF', 'CV', 'CW', 'DM', 'FJ', 'GM', 'GE', 'GD', 'GW', 'GY', 'HT', 'JM', 'KI', 'LS', 'LR', 'MW', 'MV', 'ML', 'MH', 'FM', 'NA', 'NR', 'NE', 'PW', 'PG', 'PR', 'WS', 'SM', 'ST', 'SN', 'SC', 'SL', 'SB', 'KN', 'LC', 'VC', 'SR', 'TL', 'TO', 'TT', 'TV', 'VU', 'AZ', 'BN', 'BI', 'KH', 'CM', 'TD', 'KM', 'GQ', 'SZ', 'GA', 'GN', 'KG', 'LA', 'MO', 'MR', 'MN', 'NP', 'RW', 'TG', 'UZ', 'ZW', 'BJ', 'MG', 'MU', 'MZ', 'AO', 'CI', 'DJ', 'ZM', 'CD', 'CG', 'IQ', 'LY', 'TJ', 'VE', 'ET', 'XK'], 'disc_number': 1, 'duration_ms': 216813, 'explicit': True, 'external_ids': {'isrc': 'SE6HE2300201'}, 'external_urls': {'spotify': 'https://open.spotify.com/track/29y2j3s6i528lBTSMP0wbE'}, 'href': 'https://api.spotify.com/v1/tracks/29y2j3s6i528lBTSMP0wbE', 'id': '29y2j3s6i528lBTSMP0wbE', 'is_local': False, 'name': '1916', 'popularity': 52, 'preview_url': 'https://p.scdn.co/mp3-preview/e7d703799aa4d41be0178118fd03abe02ea162a8?cid=915e8dfc3ac24be1be2f8c68c31eed28', 'track_number': 1, 'type': 'track', 'uri': 'spotify:track:29y2j3s6i528lBTSMP0wbE'}\n",
      "\n",
      "\n",
      "{'danceability': 0.417, 'energy': 0.887, 'key': 7, 'loudness': -6.747, 'mode': 1, 'speechiness': 0.0722, 'acousticness': 0.126, 'instrumentalness': 0, 'liveness': 0.341, 'valence': 0.363, 'tempo': 130.073, 'type': 'audio_features', 'id': '29y2j3s6i528lBTSMP0wbE', 'uri': 'spotify:track:29y2j3s6i528lBTSMP0wbE', 'track_href': 'https://api.spotify.com/v1/tracks/29y2j3s6i528lBTSMP0wbE', 'analysis_url': 'https://api.spotify.com/v1/audio-analysis/29y2j3s6i528lBTSMP0wbE', 'duration_ms': 216813, 'time_signature': 3}\n"
     ]
    }
   ],
   "source": [
    "#Using the first album to get a list of all the tracks on the album, mostly just a test of getting tracks from an album\n",
    "url = \"https://api.spotify.com/v1/albums/\" + albums.json().get(\"items\")[0]['id'] + \"/tracks\"\n",
    "headers = {\n",
    "    \"Authorization\": \"Bearer  \" + token\n",
    "}\n",
    "albumTracks = requests.get(url, headers=headers)\n",
    "if response.status_code == 200:\n",
    "    url = \"https://api.spotify.com/v1/tracks/\" + albumTracks.json().get(\"items\")[0]['id']\n",
    "    song = requests.get(url, headers=headers)\n",
    "    print(song.json())\n",
    "    print('\\n')\n",
    "    url = \"https://api.spotify.com/v1/audio-features/\" + albumTracks.json().get(\"items\")[0]['id']\n",
    "    songf = requests.get(url, headers=headers)\n",
    "    print(songf.json())\n",
    "else:\n",
    "    print(\"Failed to get track:\", response.text)"
   ]
  },
  {
   "cell_type": "code",
   "execution_count": 74,
   "id": "c880f813-5235-4f13-bdbc-b0e178567450",
   "metadata": {},
   "outputs": [],
   "source": [
    "#Importing the MySQL package as well as the requests package and conntecting to my database. Also creating a cursor and instantiating a dictionary to hold the values before insertion\n",
    "import MySQLdb\n",
    "import requests\n",
    "db = MySQLdb.connect(host=\"localhost\", user=\"root\", password=\"\", db=\"spotify\")\n",
    "cursor = db.cursor()\n",
    "table_values = {\n",
    "    \"name\": \"\",\n",
    "    \"release_date\": \"\",\n",
    "    \"duration\": 0,\n",
    "    \"explicit\":0,\n",
    "    \"popularity\":0,\n",
    "    \"track_number\":0,\n",
    "    \"danceability\":0.0,\n",
    "    \"energy\":0.0,\n",
    "    \"s_key\":0,\n",
    "    \"loudness\":0.0,\n",
    "    \"mode\":0,\n",
    "    \"speechiness\":0.0,\n",
    "    \"acousticness\":0.0,\n",
    "    \"valence\":0.0,\n",
    "    \"tempo\":0.0,\n",
    "    \"album\":\"\"\n",
    "    }\n",
    "#This for loop will run once for every album in the list of albums retreived in the prior cell\n",
    "for i in range(len(albums.json().get(\"items\"))):\n",
    "    #The current album's list of tracks is retreived\n",
    "    url = \"https://api.spotify.com/v1/albums/\" + albums.json().get(\"items\")[i]['id'] + \"/tracks\"\n",
    "    headers = {\n",
    "        \"Authorization\": \"Bearer  \" + token\n",
    "    }\n",
    "    albumTracks = requests.get(url, headers = headers)\n",
    "    tracksJson = albumTracks.json()\n",
    "    #Using the album's track list, a list of the track ids from the album is created and used as a parameter in two API requests,\n",
    "    #one which gets the overall song data and one which gets the track features\n",
    "    ids = \"\"\n",
    "    for j in range(len(tracksJson.get(\"items\"))):\n",
    "        k = tracksJson.get(\"items\")[j]['id'] + \",\"\n",
    "        ids += k\n",
    "    url = \"https://api.spotify.com/v1/tracks\"\n",
    "    params = {\n",
    "        'ids': ids\n",
    "    }\n",
    "    rawTracks = requests.get(url, headers=headers, params=params)\n",
    "    tracks = rawTracks.json()\n",
    "    url = \"https://api.spotify.com/v1/audio-features\"\n",
    "    rawTrackFeat = requests.get(url, headers=headers, params=params)\n",
    "    trackFeat = rawTrackFeat.json()\n",
    "    #This for loop iterates through the list and for each track gets all of the desired data and inserts it into the dictionary,\n",
    "    #after which the values are used in a SQL query and inserted into the database. \n",
    "    for j in range(len(tracksJson.get(\"items\"))):\n",
    "        table_values[\"name\"] = tracks.get(\"tracks\")[j]['name']\n",
    "        table_values[\"release_date\"] = tracks.get(\"tracks\")[j]['album']['release_date']\n",
    "        table_values[\"duration\"] = tracks.get(\"tracks\")[j]['duration_ms']\n",
    "        table_values[\"explicit\"] = int(tracks.get(\"tracks\")[j]['explicit'])\n",
    "        table_values[\"popularity\"] = tracks.get(\"tracks\")[j]['popularity']\n",
    "        table_values[\"track_number\"] = j\n",
    "        table_values[\"danceability\"] = trackFeat.get(\"audio_features\")[j]['danceability']\n",
    "        table_values[\"energy\"] = trackFeat.get(\"audio_features\")[j]['energy']\n",
    "        table_values[\"s_key\"] = trackFeat.get(\"audio_features\")[j]['key']\n",
    "        table_values[\"loudness\"] = trackFeat.get(\"audio_features\")[j]['loudness']\n",
    "        table_values[\"mode\"] = trackFeat.get(\"audio_features\")[j]['mode']\n",
    "        table_values[\"speechiness\"] = trackFeat.get(\"audio_features\")[j]['speechiness']\n",
    "        table_values[\"acousticness\"] = trackFeat.get(\"audio_features\")[j]['acousticness']\n",
    "        table_values[\"valence\"] = trackFeat.get(\"audio_features\")[j]['valence']\n",
    "        table_values[\"tempo\"] = trackFeat.get(\"audio_features\")[j]['tempo']\n",
    "        table_values[\"acousticness\"] = trackFeat.get(\"audio_features\")[j]['acousticness']\n",
    "        table_values[\"album\"] = albums.json().get(\"items\")[i]['name']\n",
    "        sql = \"INSERT INTO songs VALUES(%s, %s, %s, %s, %s, %s, %s, %s, %s, %s, %s, %s, %s, %s, %s, %s)\"\n",
    "        args = (table_values[\"name\"], table_values[\"release_date\"], table_values[\"duration\"], table_values[\"explicit\"], \n",
    "                table_values[\"popularity\"], table_values[\"track_number\"], table_values[\"danceability\"], table_values[\"energy\"], \n",
    "                table_values[\"s_key\"], table_values[\"loudness\"], table_values[\"mode\"], table_values[\"speechiness\"], table_values[\"acousticness\"], \n",
    "                table_values[\"valence\"], table_values[\"tempo\"], table_values[\"album\"])\n",
    "        cursor.execute(sql, args)\n",
    "db.commit()\n",
    "cursor.close()\n",
    "db.close()"
   ]
  },
  {
   "cell_type": "code",
   "execution_count": null,
   "id": "bf95a602-d502-4aab-850d-365170326d78",
   "metadata": {},
   "outputs": [],
   "source": []
  }
 ],
 "metadata": {
  "kernelspec": {
   "display_name": "Python 3 (ipykernel)",
   "language": "python",
   "name": "python3"
  },
  "language_info": {
   "codemirror_mode": {
    "name": "ipython",
    "version": 3
   },
   "file_extension": ".py",
   "mimetype": "text/x-python",
   "name": "python",
   "nbconvert_exporter": "python",
   "pygments_lexer": "ipython3",
   "version": "3.12.4"
  }
 },
 "nbformat": 4,
 "nbformat_minor": 5
}
